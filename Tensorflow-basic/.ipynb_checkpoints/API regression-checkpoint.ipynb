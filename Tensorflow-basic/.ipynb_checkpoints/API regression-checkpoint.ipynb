{
 "cells": [
  {
   "cell_type": "code",
   "execution_count": 1,
   "metadata": {},
   "outputs": [
    {
     "name": "stdout",
     "output_type": "stream",
     "text": [
      "INFO:tensorflow:Using default config.\n",
      "WARNING:tensorflow:Using temporary folder as model directory: C:\\Users\\matth\\AppData\\Local\\Temp\\tmpm4wl_iuu\n",
      "INFO:tensorflow:Using config: {'_model_dir': 'C:\\\\Users\\\\matth\\\\AppData\\\\Local\\\\Temp\\\\tmpm4wl_iuu', '_tf_random_seed': None, '_save_summary_steps': 100, '_save_checkpoints_steps': None, '_save_checkpoints_secs': 600, '_session_config': allow_soft_placement: true\n",
      "graph_options {\n",
      "  rewrite_options {\n",
      "    meta_optimizer_iterations: ONE\n",
      "  }\n",
      "}\n",
      ", '_keep_checkpoint_max': 5, '_keep_checkpoint_every_n_hours': 10000, '_log_step_count_steps': 100, '_train_distribute': None, '_device_fn': None, '_protocol': None, '_eval_distribute': None, '_experimental_distribute': None, '_service': None, '_cluster_spec': <tensorflow.python.training.server_lib.ClusterSpec object at 0x0000021C275E12B0>, '_task_type': 'worker', '_task_id': 0, '_global_id_in_cluster': 0, '_master': '', '_evaluation_master': '', '_is_chief': True, '_num_ps_replicas': 0, '_num_worker_replicas': 1}\n"
     ]
    }
   ],
   "source": [
    "import tensorflow as tf\n",
    "import pandas as pd\n",
    "import numpy as np\n",
    "\n",
    "x_data = np.linspace(0.0,10,1000000)\n",
    "noise = np.random.randn(len(x_data))\n",
    "\n",
    "y_data = (0.5 * x_data) + 5 + noise\n",
    "\n",
    "x_df = pd.DataFrame(x_data, columns=['X Data'])\n",
    "y_df = pd.DataFrame(y_data, columns=['Y'])\n",
    "\n",
    "my_data = pd.concat([x_df, y_df], axis=1)\n",
    "\n",
    "\n",
    "from sklearn.model_selection import train_test_split\n",
    "\n",
    "x_train, x_test, y_train, y_test = train_test_split(x_data, y_data, test_size=0.3)\n",
    "feats_col =[tf.feature_column.numeric_column('x', shape=[1])]\n",
    "\n",
    "estimator = tf.estimator.LinearRegressor(feature_columns=feats_col)\n",
    "\n",
    "input_func = tf.estimator.inputs.numpy_input_fn({'x':x_train}, y_train,batch_size=8, num_epochs=None,shuffle=True)\n",
    "\n",
    "train_input_func = tf.estimator.inputs.numpy_input_fn({'x':x_train}, y_train,\n",
    "                                                batch_size=8, num_epochs=1000,\n",
    "                                                shuffle=False)\n",
    "\n",
    "test_input_func = tf.estimator.inputs.numpy_input_fn({'x':x_test}, y_test,\n",
    "                                                batch_size=8, num_epochs=1000,\n",
    "                                                shuffle=False)\n",
    "\n",
    "\n"
   ]
  },
  {
   "cell_type": "code",
   "execution_count": 7,
   "metadata": {},
   "outputs": [
    {
     "name": "stdout",
     "output_type": "stream",
     "text": [
      "INFO:tensorflow:Calling model_fn.\n",
      "INFO:tensorflow:Done calling model_fn.\n",
      "INFO:tensorflow:Create CheckpointSaverHook.\n",
      "INFO:tensorflow:Graph was finalized.\n",
      "INFO:tensorflow:Restoring parameters from C:\\Users\\matth\\AppData\\Local\\Temp\\tmpm4wl_iuu\\model.ckpt-3000\n",
      "INFO:tensorflow:Running local_init_op.\n",
      "INFO:tensorflow:Done running local_init_op.\n",
      "INFO:tensorflow:Saving checkpoints for 3000 into C:\\Users\\matth\\AppData\\Local\\Temp\\tmpm4wl_iuu\\model.ckpt.\n",
      "INFO:tensorflow:loss = 16.759895, step = 3000\n",
      "INFO:tensorflow:global_step/sec: 430.336\n",
      "INFO:tensorflow:loss = 23.85865, step = 3100 (0.233 sec)\n",
      "INFO:tensorflow:global_step/sec: 557.042\n",
      "INFO:tensorflow:loss = 7.966016, step = 3200 (0.182 sec)\n",
      "INFO:tensorflow:global_step/sec: 484.381\n",
      "INFO:tensorflow:loss = 11.897447, step = 3300 (0.204 sec)\n",
      "INFO:tensorflow:global_step/sec: 459.945\n",
      "INFO:tensorflow:loss = 4.615698, step = 3400 (0.217 sec)\n",
      "INFO:tensorflow:global_step/sec: 541.987\n",
      "INFO:tensorflow:loss = 6.469067, step = 3500 (0.185 sec)\n",
      "INFO:tensorflow:global_step/sec: 566.486\n",
      "INFO:tensorflow:loss = 4.1733027, step = 3600 (0.176 sec)\n",
      "INFO:tensorflow:global_step/sec: 611.385\n",
      "INFO:tensorflow:loss = 5.7073107, step = 3700 (0.165 sec)\n",
      "INFO:tensorflow:global_step/sec: 611.387\n",
      "INFO:tensorflow:loss = 3.6803293, step = 3800 (0.164 sec)\n",
      "INFO:tensorflow:global_step/sec: 622.78\n",
      "INFO:tensorflow:loss = 11.611889, step = 3900 (0.161 sec)\n",
      "INFO:tensorflow:Saving checkpoints for 4000 into C:\\Users\\matth\\AppData\\Local\\Temp\\tmpm4wl_iuu\\model.ckpt.\n",
      "INFO:tensorflow:Loss for final step: 1.9988134.\n"
     ]
    },
    {
     "data": {
      "text/plain": [
       "<tensorflow.python.estimator.canned.linear.LinearRegressor at 0x21c2757ad30>"
      ]
     },
     "execution_count": 7,
     "metadata": {},
     "output_type": "execute_result"
    }
   ],
   "source": [
    "estimator.train(input_fn = input_func, steps=1000)"
   ]
  },
  {
   "cell_type": "code",
   "execution_count": 8,
   "metadata": {},
   "outputs": [
    {
     "name": "stdout",
     "output_type": "stream",
     "text": [
      "INFO:tensorflow:Calling model_fn.\n",
      "INFO:tensorflow:Done calling model_fn.\n",
      "INFO:tensorflow:Starting evaluation at 2019-02-23-16:23:35\n",
      "INFO:tensorflow:Graph was finalized.\n",
      "INFO:tensorflow:Restoring parameters from C:\\Users\\matth\\AppData\\Local\\Temp\\tmpm4wl_iuu\\model.ckpt-4000\n",
      "INFO:tensorflow:Running local_init_op.\n",
      "INFO:tensorflow:Done running local_init_op.\n",
      "INFO:tensorflow:Evaluation [100/1000]\n",
      "INFO:tensorflow:Evaluation [200/1000]\n",
      "INFO:tensorflow:Evaluation [300/1000]\n",
      "INFO:tensorflow:Evaluation [400/1000]\n",
      "INFO:tensorflow:Evaluation [500/1000]\n",
      "INFO:tensorflow:Evaluation [600/1000]\n",
      "INFO:tensorflow:Evaluation [700/1000]\n",
      "INFO:tensorflow:Evaluation [800/1000]\n",
      "INFO:tensorflow:Evaluation [900/1000]\n",
      "INFO:tensorflow:Evaluation [1000/1000]\n",
      "INFO:tensorflow:Finished evaluation at 2019-02-23-16:23:37\n",
      "INFO:tensorflow:Saving dict for global step 4000: average_loss = 0.9885949, global_step = 4000, label/mean = 7.5236344, loss = 7.908759, prediction/mean = 7.547486\n",
      "INFO:tensorflow:Saving 'checkpoint_path' summary for global step 4000: C:\\Users\\matth\\AppData\\Local\\Temp\\tmpm4wl_iuu\\model.ckpt-4000\n"
     ]
    }
   ],
   "source": [
    "train_metrics = estimator.evaluate(input_fn = train_input_func, steps=1000)"
   ]
  },
  {
   "cell_type": "code",
   "execution_count": 9,
   "metadata": {},
   "outputs": [
    {
     "name": "stdout",
     "output_type": "stream",
     "text": [
      "INFO:tensorflow:Calling model_fn.\n",
      "INFO:tensorflow:Done calling model_fn.\n",
      "INFO:tensorflow:Starting evaluation at 2019-02-23-16:24:59\n",
      "INFO:tensorflow:Graph was finalized.\n",
      "INFO:tensorflow:Restoring parameters from C:\\Users\\matth\\AppData\\Local\\Temp\\tmpm4wl_iuu\\model.ckpt-4000\n",
      "INFO:tensorflow:Running local_init_op.\n",
      "INFO:tensorflow:Done running local_init_op.\n",
      "INFO:tensorflow:Evaluation [100/1000]\n",
      "INFO:tensorflow:Evaluation [200/1000]\n",
      "INFO:tensorflow:Evaluation [300/1000]\n",
      "INFO:tensorflow:Evaluation [400/1000]\n",
      "INFO:tensorflow:Evaluation [500/1000]\n",
      "INFO:tensorflow:Evaluation [600/1000]\n",
      "INFO:tensorflow:Evaluation [700/1000]\n",
      "INFO:tensorflow:Evaluation [800/1000]\n",
      "INFO:tensorflow:Evaluation [900/1000]\n",
      "INFO:tensorflow:Evaluation [1000/1000]\n",
      "INFO:tensorflow:Finished evaluation at 2019-02-23-16:25:02\n",
      "INFO:tensorflow:Saving dict for global step 4000: average_loss = 0.9981452, global_step = 4000, label/mean = 7.530219, loss = 7.985162, prediction/mean = 7.5342903\n",
      "INFO:tensorflow:Saving 'checkpoint_path' summary for global step 4000: C:\\Users\\matth\\AppData\\Local\\Temp\\tmpm4wl_iuu\\model.ckpt-4000\n"
     ]
    }
   ],
   "source": [
    "eval_metrics = estimator.evaluate(input_fn=test_input_func, steps=1000)"
   ]
  },
  {
   "cell_type": "code",
   "execution_count": 10,
   "metadata": {},
   "outputs": [
    {
     "name": "stdout",
     "output_type": "stream",
     "text": [
      "{'average_loss': 0.9885949, 'label/mean': 7.5236344, 'loss': 7.908759, 'prediction/mean': 7.547486, 'global_step': 4000}\n"
     ]
    }
   ],
   "source": [
    "print('TRAINING DATA METRIC')\n",
    "print(train_metrics)"
   ]
  },
  {
   "cell_type": "code",
   "execution_count": 11,
   "metadata": {},
   "outputs": [
    {
     "name": "stdout",
     "output_type": "stream",
     "text": [
      "TEST DATA METRIC\n",
      "{'average_loss': 0.9981452, 'label/mean': 7.530219, 'loss': 7.985162, 'prediction/mean': 7.5342903, 'global_step': 4000}\n"
     ]
    }
   ],
   "source": [
    "print('TEST DATA METRIC')\n",
    "print(eval_metrics)"
   ]
  },
  {
   "cell_type": "code",
   "execution_count": 12,
   "metadata": {},
   "outputs": [],
   "source": [
    "brand_new_data = np.linspace(0,10,10)\n",
    "input_fn_predict = tf.estimator.inputs.numpy_input_fn({'x':brand_new_data},shuffle=False)"
   ]
  },
  {
   "cell_type": "code",
   "execution_count": 17,
   "metadata": {},
   "outputs": [
    {
     "name": "stdout",
     "output_type": "stream",
     "text": [
      "INFO:tensorflow:Calling model_fn.\n",
      "INFO:tensorflow:Done calling model_fn.\n",
      "INFO:tensorflow:Graph was finalized.\n",
      "INFO:tensorflow:Restoring parameters from C:\\Users\\matth\\AppData\\Local\\Temp\\tmpm4wl_iuu\\model.ckpt-4000\n",
      "INFO:tensorflow:Running local_init_op.\n",
      "INFO:tensorflow:Done running local_init_op.\n"
     ]
    },
    {
     "data": {
      "text/plain": [
       "[{'predictions': array([4.968332], dtype=float32)},\n",
       " {'predictions': array([5.5340376], dtype=float32)},\n",
       " {'predictions': array([6.099744], dtype=float32)},\n",
       " {'predictions': array([6.6654496], dtype=float32)},\n",
       " {'predictions': array([7.2311554], dtype=float32)},\n",
       " {'predictions': array([7.796861], dtype=float32)},\n",
       " {'predictions': array([8.362567], dtype=float32)},\n",
       " {'predictions': array([8.928273], dtype=float32)},\n",
       " {'predictions': array([9.4939785], dtype=float32)},\n",
       " {'predictions': array([10.059685], dtype=float32)}]"
      ]
     },
     "execution_count": 17,
     "metadata": {},
     "output_type": "execute_result"
    }
   ],
   "source": [
    "list(estimator.predict(input_fn = input_fn_predict))"
   ]
  },
  {
   "cell_type": "code",
   "execution_count": null,
   "metadata": {},
   "outputs": [],
   "source": []
  }
 ],
 "metadata": {
  "kernelspec": {
   "display_name": "Python 3",
   "language": "python",
   "name": "python3"
  },
  "language_info": {
   "codemirror_mode": {
    "name": "ipython",
    "version": 3
   },
   "file_extension": ".py",
   "mimetype": "text/x-python",
   "name": "python",
   "nbconvert_exporter": "python",
   "pygments_lexer": "ipython3",
   "version": "3.6.6"
  }
 },
 "nbformat": 4,
 "nbformat_minor": 2
}
